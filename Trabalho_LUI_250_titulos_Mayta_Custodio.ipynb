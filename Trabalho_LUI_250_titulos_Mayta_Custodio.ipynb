{
  "nbformat": 4,
  "nbformat_minor": 0,
  "metadata": {
    "colab": {
      "name": "Trabalho_LUI_250_titulos_Mayta_Custodio.ipynb",
      "provenance": [],
      "collapsed_sections": []
    },
    "kernelspec": {
      "name": "python3",
      "display_name": "Python 3"
    },
    "accelerator": "GPU"
  },
  "cells": [
    {
      "cell_type": "markdown",
      "metadata": {
        "id": "J1SQvBMcvdXq"
      },
      "source": [
        "### TRABALHO LUI "
      ]
    },
    {
      "cell_type": "markdown",
      "metadata": {
        "id": "ofDLUs8M_aeD"
      },
      "source": [
        "\n",
        "NOME: MAYTA SOARES CUSTODIO\\\n",
        "MATRICULA: 192.671.147\\\n",
        "TURMA: 2019.2"
      ]
    },
    {
      "cell_type": "markdown",
      "metadata": {
        "id": "mTXb8QCW_gjE"
      },
      "source": [
        "###1.1. Descrição do problema"
      ]
    },
    {
      "cell_type": "markdown",
      "metadata": {
        "id": "nsgQ202m_hOs"
      },
      "source": [
        "Trabalho de LUI\\\n",
        "Foi passado para vocês um web scrapping para extrair os dados de um site do IMBD, por favor obtendo os dados obtidos pelo scrappig, organize em tabelas (dataframes) os filmes extraídos\\\n",
        "1- Organize os filmes por gênero\\\n",
        "2- Organize os filmes por ano"
      ]
    },
    {
      "cell_type": "markdown",
      "metadata": {
        "id": "a2yIifrgIDiv"
      },
      "source": [
        "Nesse script abordei uma outra forma de realizar o trabalho, através de pesquisa na internet e em sites do assunto. Fiz com 250 títlos e incorporei o filtro por metascore, que é uma métrica que classifica a qualidade. O imdb possui esse feature, decidi então incorporá-lo no trabalho e usar como filtro. Usei 250 títlos disponíveis, alterando a url manualmente no 'count=250' no meio da url e não no final."
      ]
    },
    {
      "cell_type": "code",
      "metadata": {
        "id": "yE7AMapmVkLM",
        "outputId": "404c9e86-58d8-480c-9d68-51267db5b0f2",
        "colab": {
          "base_uri": "https://localhost:8080/"
        }
      },
      "source": [
        "# Realizando o get com 250 títulos\n",
        "\n",
        "from requests import get\n",
        "url = 'https://www.imdb.com/search/title/?count=250&title_type=feature,tv_series&ref_=nv_wl_img_2'\n",
        "response = get(url)\n",
        "print(response.text[:500])"
      ],
      "execution_count": 1,
      "outputs": [
        {
          "output_type": "stream",
          "text": [
            "\n",
            "\n",
            "<!DOCTYPE html>\n",
            "<html\n",
            "    xmlns:og=\"http://ogp.me/ns#\"\n",
            "    xmlns:fb=\"http://www.facebook.com/2008/fbml\">\n",
            "    <head>\n",
            "         \n",
            "        <meta charset=\"utf-8\">\n",
            "        <meta http-equiv=\"X-UA-Compatible\" content=\"IE=edge\">\n",
            "\n",
            "    <meta name=\"apple-itunes-app\" content=\"app-id=342792525, app-argument=imdb:///?src=mdot\">\n",
            "\n",
            "\n",
            "\n",
            "        <script type=\"text/javascript\">var IMDbTimer={starttime: new Date().getTime(),pt:'java'};</script>\n",
            "\n",
            "<script>\n",
            "    if (typeof uet == 'function') {\n",
            "      uet(\"bb\", \"LoadTitle\",\n"
          ],
          "name": "stdout"
        }
      ]
    },
    {
      "cell_type": "code",
      "metadata": {
        "id": "mU6x9U75V4JM",
        "outputId": "31e7ce32-c9c9-4fa8-abdf-572c61e3747d",
        "colab": {
          "base_uri": "https://localhost:8080/"
        }
      },
      "source": [
        "# Verificando a resposta do servidor\n",
        "\n",
        "response"
      ],
      "execution_count": 2,
      "outputs": [
        {
          "output_type": "execute_result",
          "data": {
            "text/plain": [
              "<Response [200]>"
            ]
          },
          "metadata": {
            "tags": []
          },
          "execution_count": 2
        }
      ]
    },
    {
      "cell_type": "code",
      "metadata": {
        "id": "iTQiDyeeVtSJ",
        "outputId": "4135f2e7-ab21-4bfc-950f-7e5bc464c148",
        "colab": {
          "base_uri": "https://localhost:8080/"
        }
      },
      "source": [
        "# Importando a biblioteca BeautifulSoup\n",
        "\n",
        "from bs4 import BeautifulSoup\n",
        "html_soup = BeautifulSoup(response.text, 'html.parser')\n",
        "type(html_soup)\n"
      ],
      "execution_count": 3,
      "outputs": [
        {
          "output_type": "execute_result",
          "data": {
            "text/plain": [
              "bs4.BeautifulSoup"
            ]
          },
          "metadata": {
            "tags": []
          },
          "execution_count": 3
        }
      ]
    },
    {
      "cell_type": "code",
      "metadata": {
        "id": "bdPEd8wtV5Zj",
        "outputId": "2a34359d-0cf9-4852-e3ca-e9a9cbea647a",
        "colab": {
          "base_uri": "https://localhost:8080/"
        }
      },
      "source": [
        "# Conferindo o número de ítens dentro da tag\n",
        "\n",
        "movie_containers = html_soup.find_all('div', class_ = 'lister-item mode-advanced')\n",
        "print(type(movie_containers))\n",
        "print(len(movie_containers))"
      ],
      "execution_count": 4,
      "outputs": [
        {
          "output_type": "stream",
          "text": [
            "<class 'bs4.element.ResultSet'>\n",
            "250\n"
          ],
          "name": "stdout"
        }
      ]
    },
    {
      "cell_type": "markdown",
      "metadata": {
        "id": "Y-XADeJLI4W2"
      },
      "source": [
        "Realizado extração das informações necessárias do primeiro título para criar o script para os demais."
      ]
    },
    {
      "cell_type": "markdown",
      "metadata": {
        "id": "VBZBPhJLXknr"
      },
      "source": [
        "Tratamento para separar o nome do primeiro filme"
      ]
    },
    {
      "cell_type": "code",
      "metadata": {
        "id": "qvhn1u1zWFei",
        "outputId": "34e58a96-987b-4917-a047-8f4efe05fafe",
        "colab": {
          "base_uri": "https://localhost:8080/"
        }
      },
      "source": [
        "first_movie = movie_containers[0]\n",
        "first_movie"
      ],
      "execution_count": 5,
      "outputs": [
        {
          "output_type": "execute_result",
          "data": {
            "text/plain": [
              "<div class=\"lister-item mode-advanced\">\n",
              "<div class=\"lister-top-right\">\n",
              "<div class=\"ribbonize\" data-caller=\"filmosearch\" data-tconst=\"tt13143964\"></div>\n",
              "</div>\n",
              "<div class=\"lister-item-image float-left\">\n",
              "<a href=\"/title/tt13143964/\"> <img alt=\"Borat Subsequent Moviefilm\" class=\"loadlate\" data-tconst=\"tt13143964\" height=\"98\" loadlate=\"https://m.media-amazon.com/images/M/MV5BZmY2ZmM5YTktZThiOC00YjEzLTg4YTctMDAxYWEyZmEyZDlhXkEyXkFqcGdeQXVyMjkwOTAyMDU@._V1_UX67_CR0,0,67,98_AL_.jpg\" src=\"https://m.media-amazon.com/images/G/01/imdb/images/nopicture/large/film-184890147._CB466725069_.png\" width=\"67\"/>\n",
              "</a> </div>\n",
              "<div class=\"lister-item-content\">\n",
              "<h3 class=\"lister-item-header\">\n",
              "<span class=\"lister-item-index unbold text-primary\">1.</span>\n",
              "<a href=\"/title/tt13143964/\">Borat Subsequent Moviefilm</a>\n",
              "<span class=\"lister-item-year text-muted unbold\">(2020)</span>\n",
              "</h3>\n",
              "<p class=\"text-muted \">\n",
              "<span class=\"certificate\">R</span>\n",
              "<span class=\"ghost\">|</span>\n",
              "<span class=\"runtime\">95 min</span>\n",
              "<span class=\"ghost\">|</span>\n",
              "<span class=\"genre\">\n",
              "Comedy            </span>\n",
              "</p>\n",
              "<div class=\"ratings-bar\">\n",
              "<div class=\"inline-block ratings-imdb-rating\" data-value=\"6.9\" name=\"ir\">\n",
              "<span class=\"global-sprite rating-star imdb-rating\"></span>\n",
              "<strong>6.9</strong>\n",
              "</div>\n",
              "<div class=\"inline-block ratings-user-rating\">\n",
              "<span class=\"userRatingValue\" data-tconst=\"tt13143964\" id=\"urv_tt13143964\">\n",
              "<span class=\"global-sprite rating-star no-rating\"></span>\n",
              "<span class=\"rate\" data-no-rating=\"Rate this\" data-value=\"0\" name=\"ur\">Rate this</span>\n",
              "</span>\n",
              "<div class=\"starBarWidget\" id=\"sb_tt13143964\">\n",
              "<div class=\"rating rating-list\" data-auth=\"\" data-ga-identifier=\"\" data-starbar-class=\"rating-list\" data-user=\"\" id=\"tt13143964|imdb|6.9|6.9|adv_li_tt||advsearch|title\" itemprop=\"aggregateRating\" itemscope=\"\" itemtype=\"http://schema.org/AggregateRating\" title=\"Users rated this 6.9/10 (69,702 votes) - click stars to rate\">\n",
              "<meta content=\"6.9\" itemprop=\"ratingValue\"/>\n",
              "<meta content=\"10\" itemprop=\"bestRating\"/>\n",
              "<meta content=\"69702\" itemprop=\"ratingCount\"/>\n",
              "<span class=\"rating-bg\"> </span>\n",
              "<span class=\"rating-imdb \" style=\"width: 96.6px\"> </span>\n",
              "<span class=\"rating-stars\">\n",
              "<a href=\"/register/login?why=vote\" rel=\"nofollow\" title=\"Register or login to rate this title\"><span>1</span></a>\n",
              "<a href=\"/register/login?why=vote\" rel=\"nofollow\" title=\"Register or login to rate this title\"><span>2</span></a>\n",
              "<a href=\"/register/login?why=vote\" rel=\"nofollow\" title=\"Register or login to rate this title\"><span>3</span></a>\n",
              "<a href=\"/register/login?why=vote\" rel=\"nofollow\" title=\"Register or login to rate this title\"><span>4</span></a>\n",
              "<a href=\"/register/login?why=vote\" rel=\"nofollow\" title=\"Register or login to rate this title\"><span>5</span></a>\n",
              "<a href=\"/register/login?why=vote\" rel=\"nofollow\" title=\"Register or login to rate this title\"><span>6</span></a>\n",
              "<a href=\"/register/login?why=vote\" rel=\"nofollow\" title=\"Register or login to rate this title\"><span>7</span></a>\n",
              "<a href=\"/register/login?why=vote\" rel=\"nofollow\" title=\"Register or login to rate this title\"><span>8</span></a>\n",
              "<a href=\"/register/login?why=vote\" rel=\"nofollow\" title=\"Register or login to rate this title\"><span>9</span></a>\n",
              "<a href=\"/register/login?why=vote\" rel=\"nofollow\" title=\"Register or login to rate this title\"><span>10</span></a>\n",
              "</span>\n",
              "<span class=\"rating-rating \"><span class=\"value\">6.9</span><span class=\"grey\">/</span><span class=\"grey\">10</span></span>\n",
              "<span class=\"rating-cancel \"><a href=\"/title/tt13143964/vote?v=X;k=\" rel=\"nofollow\" title=\"Delete\"><span>X</span></a></span>\n",
              " </div>\n",
              "</div>\n",
              "</div>\n",
              "<div class=\"inline-block ratings-metascore\">\n",
              "<span class=\"metascore favorable\">68        </span>\n",
              "        Metascore\n",
              "            </div>\n",
              "</div>\n",
              "<p class=\"text-muted\">\n",
              "    Follow-up film to the 2006 comedy centering on the real-life adventures of a fictional Kazakh television journalist named Borat.</p>\n",
              "<p class=\"\">\n",
              "    Director:\n",
              "<a href=\"/name/nm0938471/\">Jason Woliner</a>\n",
              "<span class=\"ghost\">|</span> \n",
              "    Stars:\n",
              "<a href=\"/name/nm0056187/\">Sacha Baron Cohen</a>, \n",
              "<a href=\"/name/nm7210025/\">Maria Bakalova</a>, \n",
              "<a href=\"/name/nm0000158/\">Tom Hanks</a>, \n",
              "<a href=\"/name/nm2483965/\">Dani Popescu</a>\n",
              "</p>\n",
              "<p class=\"sort-num_votes-visible\">\n",
              "<span class=\"text-muted\">Votes:</span>\n",
              "<span data-value=\"69702\" name=\"nv\">69,702</span>\n",
              "</p>\n",
              "</div>\n",
              "</div>"
            ]
          },
          "metadata": {
            "tags": []
          },
          "execution_count": 5
        }
      ]
    },
    {
      "cell_type": "code",
      "metadata": {
        "id": "jGzEvI_pW7EF",
        "outputId": "0f1870e1-457e-49e6-f7c3-2e730b3b92b5",
        "colab": {
          "base_uri": "https://localhost:8080/",
          "height": 35
        }
      },
      "source": [
        "first_name = first_movie.h3.a.text\n",
        "first_name"
      ],
      "execution_count": 8,
      "outputs": [
        {
          "output_type": "execute_result",
          "data": {
            "application/vnd.google.colaboratory.intrinsic+json": {
              "type": "string"
            },
            "text/plain": [
              "'Borat Subsequent Moviefilm'"
            ]
          },
          "metadata": {
            "tags": []
          },
          "execution_count": 8
        }
      ]
    },
    {
      "cell_type": "markdown",
      "metadata": {
        "id": "gCyVfjyUXhiS"
      },
      "source": [
        "Tratamento para separar o ano de lançamento do primeiro filme"
      ]
    },
    {
      "cell_type": "code",
      "metadata": {
        "id": "r8c4kxunWFwu",
        "outputId": "affc2518-96e4-4c17-d399-732fa640c30a",
        "colab": {
          "base_uri": "https://localhost:8080/"
        }
      },
      "source": [
        "first_year = first_movie.h3.find('span', class_ = 'lister-item-year text-muted unbold')\n",
        "first_year"
      ],
      "execution_count": 9,
      "outputs": [
        {
          "output_type": "execute_result",
          "data": {
            "text/plain": [
              "<span class=\"lister-item-year text-muted unbold\">(2020)</span>"
            ]
          },
          "metadata": {
            "tags": []
          },
          "execution_count": 9
        }
      ]
    },
    {
      "cell_type": "code",
      "metadata": {
        "id": "vOtWyBeeWGF_",
        "outputId": "6d55eaca-5782-4543-b507-3496cceef3ef",
        "colab": {
          "base_uri": "https://localhost:8080/",
          "height": 35
        }
      },
      "source": [
        "first_year = first_year.text\n",
        "first_year"
      ],
      "execution_count": 10,
      "outputs": [
        {
          "output_type": "execute_result",
          "data": {
            "application/vnd.google.colaboratory.intrinsic+json": {
              "type": "string"
            },
            "text/plain": [
              "'(2020)'"
            ]
          },
          "metadata": {
            "tags": []
          },
          "execution_count": 10
        }
      ]
    },
    {
      "cell_type": "markdown",
      "metadata": {
        "id": "_0tc89SUXrEr"
      },
      "source": [
        "Tratamento para separar a primeira avaliação IMDB"
      ]
    },
    {
      "cell_type": "code",
      "metadata": {
        "id": "jcNUJ9o-WGSQ",
        "outputId": "ec1eaafd-6e7f-4a7c-fd82-b80c0767349f",
        "colab": {
          "base_uri": "https://localhost:8080/"
        }
      },
      "source": [
        "first_movie.strong"
      ],
      "execution_count": 11,
      "outputs": [
        {
          "output_type": "execute_result",
          "data": {
            "text/plain": [
              "<strong>6.9</strong>"
            ]
          },
          "metadata": {
            "tags": []
          },
          "execution_count": 11
        }
      ]
    },
    {
      "cell_type": "code",
      "metadata": {
        "id": "B64ImdF_WF8D",
        "outputId": "0bb1af63-c5e5-4d5e-b8a4-38201095a176",
        "colab": {
          "base_uri": "https://localhost:8080/"
        }
      },
      "source": [
        "first_imdb = float(first_movie.strong.text)\n",
        "first_imdb"
      ],
      "execution_count": 12,
      "outputs": [
        {
          "output_type": "execute_result",
          "data": {
            "text/plain": [
              "6.9"
            ]
          },
          "metadata": {
            "tags": []
          },
          "execution_count": 12
        }
      ]
    },
    {
      "cell_type": "markdown",
      "metadata": {
        "id": "h8KrD40D5v6w"
      },
      "source": [
        "Tratamento para separar o primeiro metascore"
      ]
    },
    {
      "cell_type": "code",
      "metadata": {
        "id": "OGDlCnmS5wXU"
      },
      "source": [
        "first_mscore = first_movie.find('span', class_ = 'metascore favorable')"
      ],
      "execution_count": 13,
      "outputs": []
    },
    {
      "cell_type": "code",
      "metadata": {
        "id": "k9WLyoC05-Md",
        "outputId": "94c66eeb-5e0f-4a93-8bcb-a93efdfb03f0",
        "colab": {
          "base_uri": "https://localhost:8080/"
        }
      },
      "source": [
        "first_mscore = int(first_mscore.text)\n",
        "print(first_mscore)"
      ],
      "execution_count": 14,
      "outputs": [
        {
          "output_type": "stream",
          "text": [
            "68\n"
          ],
          "name": "stdout"
        }
      ]
    },
    {
      "cell_type": "markdown",
      "metadata": {
        "id": "Ps-dC0iMYHB8"
      },
      "source": [
        "Tratamento para separar a duração do primeiro filme\n"
      ]
    },
    {
      "cell_type": "code",
      "metadata": {
        "id": "h_fSWTzPZ8ik",
        "outputId": "bcbecb16-af6a-424d-ac1c-523ad1babf01",
        "colab": {
          "base_uri": "https://localhost:8080/"
        }
      },
      "source": [
        "first_movie.p\n"
      ],
      "execution_count": 15,
      "outputs": [
        {
          "output_type": "execute_result",
          "data": {
            "text/plain": [
              "<p class=\"text-muted \">\n",
              "<span class=\"certificate\">R</span>\n",
              "<span class=\"ghost\">|</span>\n",
              "<span class=\"runtime\">95 min</span>\n",
              "<span class=\"ghost\">|</span>\n",
              "<span class=\"genre\">\n",
              "Comedy            </span>\n",
              "</p>"
            ]
          },
          "metadata": {
            "tags": []
          },
          "execution_count": 15
        }
      ]
    },
    {
      "cell_type": "code",
      "metadata": {
        "id": "P3nYJlQHWFSE",
        "outputId": "63484820-2f61-4fbd-9bcd-815819cce18e",
        "colab": {
          "base_uri": "https://localhost:8080/"
        }
      },
      "source": [
        "first_runtime = first_movie.find('span', attrs = {'runtime'})\n",
        "first_runtime\n"
      ],
      "execution_count": 16,
      "outputs": [
        {
          "output_type": "execute_result",
          "data": {
            "text/plain": [
              "<span class=\"runtime\">95 min</span>"
            ]
          },
          "metadata": {
            "tags": []
          },
          "execution_count": 16
        }
      ]
    },
    {
      "cell_type": "code",
      "metadata": {
        "id": "DgGYTV_UhCTi",
        "outputId": "4767105d-73f9-4aa1-ddbf-1bf9689cda09",
        "colab": {
          "base_uri": "https://localhost:8080/",
          "height": 35
        }
      },
      "source": [
        "first_runtime.text[:6]"
      ],
      "execution_count": 17,
      "outputs": [
        {
          "output_type": "execute_result",
          "data": {
            "application/vnd.google.colaboratory.intrinsic+json": {
              "type": "string"
            },
            "text/plain": [
              "'95 min'"
            ]
          },
          "metadata": {
            "tags": []
          },
          "execution_count": 17
        }
      ]
    },
    {
      "cell_type": "markdown",
      "metadata": {
        "id": "l2kyDkQ9ekmk"
      },
      "source": [
        "Tratamento para separar o gênero do primeiro filme"
      ]
    },
    {
      "cell_type": "code",
      "metadata": {
        "id": "1Xt1FJhfeYfH",
        "outputId": "0c2f10de-39e2-4bc8-9557-0922e2316864",
        "colab": {
          "base_uri": "https://localhost:8080/"
        }
      },
      "source": [
        "first_movie.p"
      ],
      "execution_count": 19,
      "outputs": [
        {
          "output_type": "execute_result",
          "data": {
            "text/plain": [
              "<p class=\"text-muted \">\n",
              "<span class=\"certificate\">R</span>\n",
              "<span class=\"ghost\">|</span>\n",
              "<span class=\"runtime\">95 min</span>\n",
              "<span class=\"ghost\">|</span>\n",
              "<span class=\"genre\">\n",
              "Comedy            </span>\n",
              "</p>"
            ]
          },
          "metadata": {
            "tags": []
          },
          "execution_count": 19
        }
      ]
    },
    {
      "cell_type": "code",
      "metadata": {
        "id": "_plsnT_0em7w",
        "outputId": "12128121-3983-4ffa-f1ef-69acf891f39c",
        "colab": {
          "base_uri": "https://localhost:8080/"
        }
      },
      "source": [
        "first_genre = first_movie.find('span', attrs = {'genre'})\n",
        "first_genre"
      ],
      "execution_count": 20,
      "outputs": [
        {
          "output_type": "execute_result",
          "data": {
            "text/plain": [
              "<span class=\"genre\">\n",
              "Comedy            </span>"
            ]
          },
          "metadata": {
            "tags": []
          },
          "execution_count": 20
        }
      ]
    },
    {
      "cell_type": "code",
      "metadata": {
        "id": "1fPX-cnTgN2f",
        "outputId": "4e4ab1b8-8bed-42d5-f2bc-5b2ce79a70f0",
        "colab": {
          "base_uri": "https://localhost:8080/",
          "height": 35
        }
      },
      "source": [
        "first_genre.text[1:-12]"
      ],
      "execution_count": 21,
      "outputs": [
        {
          "output_type": "execute_result",
          "data": {
            "application/vnd.google.colaboratory.intrinsic+json": {
              "type": "string"
            },
            "text/plain": [
              "'Comedy'"
            ]
          },
          "metadata": {
            "tags": []
          },
          "execution_count": 21
        }
      ]
    },
    {
      "cell_type": "markdown",
      "metadata": {
        "id": "Ju5kAFrRi7sM"
      },
      "source": [
        "Tratamento para separar o diretor do primeiro filme"
      ]
    },
    {
      "cell_type": "code",
      "metadata": {
        "id": "g-CLd0tcemy6",
        "outputId": "692a4443-bc62-4eb6-96c4-e66a09c2d74a",
        "colab": {
          "base_uri": "https://localhost:8080/"
        }
      },
      "source": [
        "first_director = first_movie.find_all('a')[13]\n",
        "first_director"
      ],
      "execution_count": 22,
      "outputs": [
        {
          "output_type": "execute_result",
          "data": {
            "text/plain": [
              "<a href=\"/name/nm0938471/\">Jason Woliner</a>"
            ]
          },
          "metadata": {
            "tags": []
          },
          "execution_count": 22
        }
      ]
    },
    {
      "cell_type": "code",
      "metadata": {
        "id": "gt4B0Pv-qB6U",
        "outputId": "83299b0f-f326-4c6e-ffc5-05551d63bc92",
        "colab": {
          "base_uri": "https://localhost:8080/",
          "height": 35
        }
      },
      "source": [
        "first_director.text"
      ],
      "execution_count": 23,
      "outputs": [
        {
          "output_type": "execute_result",
          "data": {
            "application/vnd.google.colaboratory.intrinsic+json": {
              "type": "string"
            },
            "text/plain": [
              "'Jason Woliner'"
            ]
          },
          "metadata": {
            "tags": []
          },
          "execution_count": 23
        }
      ]
    },
    {
      "cell_type": "markdown",
      "metadata": {
        "id": "ma5Eun1FpaaM"
      },
      "source": [
        "Tratamento para separar o primeiro número de votos"
      ]
    },
    {
      "cell_type": "code",
      "metadata": {
        "id": "hRfL-8j_ixB9",
        "outputId": "cfe46000-517a-4854-e2b4-c30749bb6462",
        "colab": {
          "base_uri": "https://localhost:8080/"
        }
      },
      "source": [
        "first_votes = first_movie.find('span', attrs = {'name':'nv'})\n",
        "first_votes"
      ],
      "execution_count": 24,
      "outputs": [
        {
          "output_type": "execute_result",
          "data": {
            "text/plain": [
              "<span data-value=\"69702\" name=\"nv\">69,702</span>"
            ]
          },
          "metadata": {
            "tags": []
          },
          "execution_count": 24
        }
      ]
    },
    {
      "cell_type": "code",
      "metadata": {
        "id": "RpI2xpOciw4v",
        "outputId": "fb5fdf99-9f4f-4ad4-cb76-37dcc4351d6a",
        "colab": {
          "base_uri": "https://localhost:8080/",
          "height": 35
        }
      },
      "source": [
        "first_votes['data-value']"
      ],
      "execution_count": 25,
      "outputs": [
        {
          "output_type": "execute_result",
          "data": {
            "application/vnd.google.colaboratory.intrinsic+json": {
              "type": "string"
            },
            "text/plain": [
              "'69702'"
            ]
          },
          "metadata": {
            "tags": []
          },
          "execution_count": 25
        }
      ]
    },
    {
      "cell_type": "markdown",
      "metadata": {
        "id": "Hk-1HZimrqRU"
      },
      "source": [
        "Tratamento para separar os Atores do primeiro filme"
      ]
    },
    {
      "cell_type": "code",
      "metadata": {
        "id": "qhaNHfujiwmF",
        "outputId": "e4613db5-af62-4009-c51d-d177b9792f6f",
        "colab": {
          "base_uri": "https://localhost:8080/"
        }
      },
      "source": [
        "first_cast = first_movie.find_all('a')[14:18]\n",
        "first_cast"
      ],
      "execution_count": 26,
      "outputs": [
        {
          "output_type": "execute_result",
          "data": {
            "text/plain": [
              "[<a href=\"/name/nm0056187/\">Sacha Baron Cohen</a>,\n",
              " <a href=\"/name/nm7210025/\">Maria Bakalova</a>,\n",
              " <a href=\"/name/nm0000158/\">Tom Hanks</a>,\n",
              " <a href=\"/name/nm2483965/\">Dani Popescu</a>]"
            ]
          },
          "metadata": {
            "tags": []
          },
          "execution_count": 26
        }
      ]
    },
    {
      "cell_type": "code",
      "metadata": {
        "id": "z95LtWJHrneg"
      },
      "source": [
        "# FAZENDO UMA LISTA PARA ARMAZENAR OS DADOS RASPADOS\n",
        "\n",
        "names = []\n",
        "years = []\n",
        "imdb_ratings = []\n",
        "metascores = []\n",
        "runtimes = []\n",
        "genres = []\n",
        "directors = []\n",
        "casts = []\n",
        "votes = []"
      ],
      "execution_count": 27,
      "outputs": []
    },
    {
      "cell_type": "code",
      "metadata": {
        "id": "znLZ6-abstqE"
      },
      "source": [
        "# EXTRAÍNDO AS INFORMAÇÕES INDIVIDUAIS DO 'movie container', Vamos levar me consideração os filmes que tiveram avalização metascore\n",
        "\n",
        "for container in movie_containers:\n",
        "\n",
        "   # Se o título possuir metascore, extrair:\n",
        "\n",
        "    if container.find('div', class_ = 'ratings-metascore') is not None:\n",
        "\n",
        "       # Nome\n",
        "        name = container.h3.a.text\n",
        "        names.append(name)\n",
        "\n",
        "        # Ano\n",
        "        year = container.h3.find('span', class_ = 'lister-item-year').text\n",
        "        years.append(year)\n",
        "\n",
        "        # Avaliação IMDB\n",
        "        imdb = container.strong\n",
        "        #imdb = float(container.strong).text\n",
        "        imdb_ratings.append(imdb)\n",
        "\n",
        "         # O Metascore\n",
        "        m_score = container.find('span', class_ = 'metascore').text\n",
        "        metascores.append(int(m_score))\n",
        "\n",
        "\n",
        "        # Tempo de duração\n",
        "        runtime = container.find('span', attrs = {'runtime'}).text[:-4]\n",
        "        runtimes.append(int(runtime))\n",
        "\n",
        "        # Gênero\n",
        "        genre = container.find('span', attrs = {'genre'}).text[1:-12]\n",
        "        genres.append(genre)\n",
        "\n",
        "        # Diretor\n",
        "        director = container.find_all('a')[13].text\n",
        "        directors.append(director)\n",
        "\n",
        "         # Elenco\n",
        "        cast = container.find_all('a')[14:18]\n",
        "        casts.append(cast)\n",
        "\n",
        "\n",
        "        # Votos\n",
        "        vote = container.find('span', attrs = {'name':'nv'})['data-value']\n",
        "        votes.append(int(vote))\n",
        "\n",
        "       \n"
      ],
      "execution_count": 28,
      "outputs": []
    },
    {
      "cell_type": "markdown",
      "metadata": {
        "id": "hMzgFdwEAcbi"
      },
      "source": [
        "Formatando os dados em um dataframe"
      ]
    },
    {
      "cell_type": "code",
      "metadata": {
        "id": "9WIijKvzst0i"
      },
      "source": [
        "import pandas as pd"
      ],
      "execution_count": 32,
      "outputs": []
    },
    {
      "cell_type": "code",
      "metadata": {
        "id": "aVSdpB5cstgj"
      },
      "source": [
        "titulos_imdb = pd.DataFrame({'movie': names,\n",
        "                       'year': years,\n",
        "                       'imdb': imdb_ratings,\n",
        "                        'metascore': metascores,\n",
        "                        'runtime': runtimes,\n",
        "                       'genre': genres,\n",
        "                       'director': directors,\n",
        "                       'cast': casts,\n",
        "                        'votes': votes})"
      ],
      "execution_count": 33,
      "outputs": []
    },
    {
      "cell_type": "code",
      "metadata": {
        "id": "SjY7m9fxxihU",
        "outputId": "58c99db2-8427-4347-f044-c355d5828768",
        "colab": {
          "base_uri": "https://localhost:8080/"
        }
      },
      "source": [
        "print(len(names), len(years), len(imdb_ratings), len(metascores), len(runtimes), len(genres), len(directors), len(casts), len(votes)), "
      ],
      "execution_count": 34,
      "outputs": [
        {
          "output_type": "stream",
          "text": [
            "98 98 98 98 98 98 98 98 98\n"
          ],
          "name": "stdout"
        },
        {
          "output_type": "execute_result",
          "data": {
            "text/plain": [
              "(None,)"
            ]
          },
          "metadata": {
            "tags": []
          },
          "execution_count": 34
        }
      ]
    },
    {
      "cell_type": "code",
      "metadata": {
        "id": "o7a5EovOyOoi",
        "outputId": "12027507-1f3a-4ad6-dd0d-30488d9e0f4d",
        "colab": {
          "base_uri": "https://localhost:8080/",
          "height": 554
        }
      },
      "source": [
        "# Dos 250 títulos, foram filtrados 93 que possuem metascore\n",
        "\n",
        "titulos_imdb"
      ],
      "execution_count": 35,
      "outputs": [
        {
          "output_type": "execute_result",
          "data": {
            "text/html": [
              "<div>\n",
              "<style scoped>\n",
              "    .dataframe tbody tr th:only-of-type {\n",
              "        vertical-align: middle;\n",
              "    }\n",
              "\n",
              "    .dataframe tbody tr th {\n",
              "        vertical-align: top;\n",
              "    }\n",
              "\n",
              "    .dataframe thead th {\n",
              "        text-align: right;\n",
              "    }\n",
              "</style>\n",
              "<table border=\"1\" class=\"dataframe\">\n",
              "  <thead>\n",
              "    <tr style=\"text-align: right;\">\n",
              "      <th></th>\n",
              "      <th>movie</th>\n",
              "      <th>year</th>\n",
              "      <th>imdb</th>\n",
              "      <th>metascore</th>\n",
              "      <th>runtime</th>\n",
              "      <th>genre</th>\n",
              "      <th>director</th>\n",
              "      <th>cast</th>\n",
              "      <th>votes</th>\n",
              "    </tr>\n",
              "  </thead>\n",
              "  <tbody>\n",
              "    <tr>\n",
              "      <th>0</th>\n",
              "      <td>Borat Subsequent Moviefilm</td>\n",
              "      <td>(2020)</td>\n",
              "      <td>[6.9]</td>\n",
              "      <td>68</td>\n",
              "      <td>95</td>\n",
              "      <td>Comedy</td>\n",
              "      <td>Jason Woliner</td>\n",
              "      <td>[[Sacha Baron Cohen], [Maria Bakalova], [Tom H...</td>\n",
              "      <td>69702</td>\n",
              "    </tr>\n",
              "    <tr>\n",
              "      <th>1</th>\n",
              "      <td>Rebecca</td>\n",
              "      <td>(2020)</td>\n",
              "      <td>[6.0]</td>\n",
              "      <td>46</td>\n",
              "      <td>121</td>\n",
              "      <td>Drama, Mystery, Romance</td>\n",
              "      <td>Ben Wheatley</td>\n",
              "      <td>[[Lily James], [Armie Hammer], [Kristin Scott ...</td>\n",
              "      <td>16625</td>\n",
              "    </tr>\n",
              "    <tr>\n",
              "      <th>2</th>\n",
              "      <td>The Witches</td>\n",
              "      <td>(2020)</td>\n",
              "      <td>[5.4]</td>\n",
              "      <td>47</td>\n",
              "      <td>106</td>\n",
              "      <td>Adventure, Comedy, Family</td>\n",
              "      <td>Robert Zemeckis</td>\n",
              "      <td>[[Anne Hathaway], [Octavia Spencer], [Stanley ...</td>\n",
              "      <td>10016</td>\n",
              "    </tr>\n",
              "    <tr>\n",
              "      <th>3</th>\n",
              "      <td>The Trial of the Chicago 7</td>\n",
              "      <td>(2020)</td>\n",
              "      <td>[7.9]</td>\n",
              "      <td>76</td>\n",
              "      <td>129</td>\n",
              "      <td>Drama, History, Thriller</td>\n",
              "      <td>Aaron Sorkin</td>\n",
              "      <td>[[Eddie Redmayne], [Alex Sharp], [Sacha Baron ...</td>\n",
              "      <td>46027</td>\n",
              "    </tr>\n",
              "    <tr>\n",
              "      <th>4</th>\n",
              "      <td>Holidate</td>\n",
              "      <td>(2020)</td>\n",
              "      <td>[6.1]</td>\n",
              "      <td>44</td>\n",
              "      <td>103</td>\n",
              "      <td>Comedy, Romance</td>\n",
              "      <td>John Whitesell</td>\n",
              "      <td>[[Emma Roberts], [Luke Bracey], [Kristin Cheno...</td>\n",
              "      <td>12327</td>\n",
              "    </tr>\n",
              "    <tr>\n",
              "      <th>...</th>\n",
              "      <td>...</td>\n",
              "      <td>...</td>\n",
              "      <td>...</td>\n",
              "      <td>...</td>\n",
              "      <td>...</td>\n",
              "      <td>...</td>\n",
              "      <td>...</td>\n",
              "      <td>...</td>\n",
              "      <td>...</td>\n",
              "    </tr>\n",
              "    <tr>\n",
              "      <th>93</th>\n",
              "      <td>Black Box</td>\n",
              "      <td>(II) (2020)</td>\n",
              "      <td>[6.1]</td>\n",
              "      <td>62</td>\n",
              "      <td>100</td>\n",
              "      <td>Horror, Mystery, Sci-Fi</td>\n",
              "      <td>Emmanuel Osei-Kuffour</td>\n",
              "      <td>[[Mamoudou Athie], [Phylicia Rashad], [Amanda ...</td>\n",
              "      <td>4997</td>\n",
              "    </tr>\n",
              "    <tr>\n",
              "      <th>94</th>\n",
              "      <td>The New Mutants</td>\n",
              "      <td>(2020)</td>\n",
              "      <td>[5.5]</td>\n",
              "      <td>43</td>\n",
              "      <td>94</td>\n",
              "      <td>Action, Horror, Sci-Fi</td>\n",
              "      <td>Josh Boone</td>\n",
              "      <td>[[Maisie Williams], [Anya Taylor-Joy], [Charli...</td>\n",
              "      <td>13291</td>\n",
              "    </tr>\n",
              "    <tr>\n",
              "      <th>95</th>\n",
              "      <td>Moneyball</td>\n",
              "      <td>(2011)</td>\n",
              "      <td>[7.6]</td>\n",
              "      <td>87</td>\n",
              "      <td>133</td>\n",
              "      <td>Biography, Drama, Sport</td>\n",
              "      <td>Bennett Miller</td>\n",
              "      <td>[[Brad Pitt], [Robin Wright], [Jonah Hill], [P...</td>\n",
              "      <td>361406</td>\n",
              "    </tr>\n",
              "    <tr>\n",
              "      <th>96</th>\n",
              "      <td>The Outpost</td>\n",
              "      <td>(2020)</td>\n",
              "      <td>[6.8]</td>\n",
              "      <td>71</td>\n",
              "      <td>123</td>\n",
              "      <td>Action, Drama, History</td>\n",
              "      <td>Rod Lurie</td>\n",
              "      <td>[[Scott Eastwood], [Caleb Landry Jones], [Orla...</td>\n",
              "      <td>14720</td>\n",
              "    </tr>\n",
              "    <tr>\n",
              "      <th>97</th>\n",
              "      <td>Ready or Not</td>\n",
              "      <td>(I) (2019)</td>\n",
              "      <td>[6.8]</td>\n",
              "      <td>64</td>\n",
              "      <td>95</td>\n",
              "      <td>Comedy, Horror, Mystery</td>\n",
              "      <td>Matt Bettinelli-Olpin</td>\n",
              "      <td>[[Tyler Gillett], [Samara Weaving], [Adam Brod...</td>\n",
              "      <td>103284</td>\n",
              "    </tr>\n",
              "  </tbody>\n",
              "</table>\n",
              "<p>98 rows × 9 columns</p>\n",
              "</div>"
            ],
            "text/plain": [
              "                         movie  ...   votes\n",
              "0   Borat Subsequent Moviefilm  ...   69702\n",
              "1                      Rebecca  ...   16625\n",
              "2                  The Witches  ...   10016\n",
              "3   The Trial of the Chicago 7  ...   46027\n",
              "4                     Holidate  ...   12327\n",
              "..                         ...  ...     ...\n",
              "93                   Black Box  ...    4997\n",
              "94             The New Mutants  ...   13291\n",
              "95                   Moneyball  ...  361406\n",
              "96                 The Outpost  ...   14720\n",
              "97                Ready or Not  ...  103284\n",
              "\n",
              "[98 rows x 9 columns]"
            ]
          },
          "metadata": {
            "tags": []
          },
          "execution_count": 35
        }
      ]
    },
    {
      "cell_type": "code",
      "metadata": {
        "id": "0CqzckIarnMN",
        "outputId": "e3fd5c18-4edf-444c-c818-9ea664ba886c",
        "colab": {
          "base_uri": "https://localhost:8080/"
        }
      },
      "source": [
        "print(titulos_imdb.info())\n"
      ],
      "execution_count": 36,
      "outputs": [
        {
          "output_type": "stream",
          "text": [
            "<class 'pandas.core.frame.DataFrame'>\n",
            "RangeIndex: 98 entries, 0 to 97\n",
            "Data columns (total 9 columns):\n",
            " #   Column     Non-Null Count  Dtype \n",
            "---  ------     --------------  ----- \n",
            " 0   movie      98 non-null     object\n",
            " 1   year       98 non-null     object\n",
            " 2   imdb       98 non-null     object\n",
            " 3   metascore  98 non-null     int64 \n",
            " 4   runtime    98 non-null     int64 \n",
            " 5   genre      98 non-null     object\n",
            " 6   director   98 non-null     object\n",
            " 7   cast       98 non-null     object\n",
            " 8   votes      98 non-null     int64 \n",
            "dtypes: int64(3), object(6)\n",
            "memory usage: 7.0+ KB\n",
            "None\n"
          ],
          "name": "stdout"
        }
      ]
    },
    {
      "cell_type": "code",
      "metadata": {
        "id": "RSH-oHn7AkD8",
        "outputId": "09532ea5-bbf4-410c-a528-750ae28b1dc6",
        "colab": {
          "base_uri": "https://localhost:8080/"
        }
      },
      "source": [
        "titulos_imdb.shape"
      ],
      "execution_count": 37,
      "outputs": [
        {
          "output_type": "execute_result",
          "data": {
            "text/plain": [
              "(98, 9)"
            ]
          },
          "metadata": {
            "tags": []
          },
          "execution_count": 37
        }
      ]
    },
    {
      "cell_type": "code",
      "metadata": {
        "id": "EhVujDDBAo5B",
        "outputId": "eebdf428-53cd-4551-cd17-91fa90bd227d",
        "colab": {
          "base_uri": "https://localhost:8080/"
        }
      },
      "source": [
        "titulos_imdb.dtypes"
      ],
      "execution_count": 38,
      "outputs": [
        {
          "output_type": "execute_result",
          "data": {
            "text/plain": [
              "movie        object\n",
              "year         object\n",
              "imdb         object\n",
              "metascore     int64\n",
              "runtime       int64\n",
              "genre        object\n",
              "director     object\n",
              "cast         object\n",
              "votes         int64\n",
              "dtype: object"
            ]
          },
          "metadata": {
            "tags": []
          },
          "execution_count": 38
        }
      ]
    },
    {
      "cell_type": "code",
      "metadata": {
        "id": "hr_82jcP9fiL",
        "outputId": "c98abadc-1664-4d01-f2ba-9c0ca9772be8",
        "colab": {
          "base_uri": "https://localhost:8080/"
        }
      },
      "source": [
        "# converter todos os valores da coluna year para inteiros\n",
        "\n",
        "titulos_imdb['year'].unique()"
      ],
      "execution_count": 39,
      "outputs": [
        {
          "output_type": "execute_result",
          "data": {
            "text/plain": [
              "array(['(2020)', '(2006)', '(1990)', '(1996)', '(1978)', '(1991)',\n",
              "       '(1993)', '(1988)', '(1940)', '(2019)', '(I) (2017)', '(1999)',\n",
              "       '(I) (2020)', '(2018)', '(2001)', '(I) (2018)', '(1980)', '(1975)',\n",
              "       '(I) (2012)', '(1984)', '(2015)', '(1973)', '(2013)', '(I) (2019)',\n",
              "       '(2011)', '(1992)', '(2009)', '(II) (2020)', '(1995)', '(1972)',\n",
              "       '(1994)', '(2012)', '(1982)', '(2014)', '(2008)', '(2007)',\n",
              "       '(I) (2010)', '(2005)', '(IX) (2016)'], dtype=object)"
            ]
          },
          "metadata": {
            "tags": []
          },
          "execution_count": 39
        }
      ]
    },
    {
      "cell_type": "code",
      "metadata": {
        "id": "qo49G7zH902n"
      },
      "source": [
        "titulos_imdb.loc[:, 'year'] = titulos_imdb['year'].str[-5:-1].astype(int)"
      ],
      "execution_count": 40,
      "outputs": []
    },
    {
      "cell_type": "code",
      "metadata": {
        "id": "Q36cymW_-API",
        "outputId": "5f9ba7d7-9d4a-412b-b6db-711fe56b30b7",
        "colab": {
          "base_uri": "https://localhost:8080/"
        }
      },
      "source": [
        "titulos_imdb['year'].tail()"
      ],
      "execution_count": 41,
      "outputs": [
        {
          "output_type": "execute_result",
          "data": {
            "text/plain": [
              "93    2020\n",
              "94    2020\n",
              "95    2011\n",
              "96    2020\n",
              "97    2019\n",
              "Name: year, dtype: int64"
            ]
          },
          "metadata": {
            "tags": []
          },
          "execution_count": 41
        }
      ]
    },
    {
      "cell_type": "code",
      "metadata": {
        "id": "2uFNvwjS-AaV",
        "outputId": "7b20730f-d8ff-4c95-cf0c-f2a4e3ba99b6",
        "colab": {
          "base_uri": "https://localhost:8080/",
          "height": 294
        }
      },
      "source": [
        "# VERIFICANDO INFORMAÇÕES DAS COLUNAS NUMÉRICAS DO DF\n",
        "\n",
        "titulos_imdb.describe()"
      ],
      "execution_count": 42,
      "outputs": [
        {
          "output_type": "execute_result",
          "data": {
            "text/html": [
              "<div>\n",
              "<style scoped>\n",
              "    .dataframe tbody tr th:only-of-type {\n",
              "        vertical-align: middle;\n",
              "    }\n",
              "\n",
              "    .dataframe tbody tr th {\n",
              "        vertical-align: top;\n",
              "    }\n",
              "\n",
              "    .dataframe thead th {\n",
              "        text-align: right;\n",
              "    }\n",
              "</style>\n",
              "<table border=\"1\" class=\"dataframe\">\n",
              "  <thead>\n",
              "    <tr style=\"text-align: right;\">\n",
              "      <th></th>\n",
              "      <th>year</th>\n",
              "      <th>metascore</th>\n",
              "      <th>runtime</th>\n",
              "      <th>votes</th>\n",
              "    </tr>\n",
              "  </thead>\n",
              "  <tbody>\n",
              "    <tr>\n",
              "      <th>count</th>\n",
              "      <td>98.000000</td>\n",
              "      <td>98.000000</td>\n",
              "      <td>98.000000</td>\n",
              "      <td>9.800000e+01</td>\n",
              "    </tr>\n",
              "    <tr>\n",
              "      <th>mean</th>\n",
              "      <td>2009.244898</td>\n",
              "      <td>65.153061</td>\n",
              "      <td>114.255102</td>\n",
              "      <td>2.634827e+05</td>\n",
              "    </tr>\n",
              "    <tr>\n",
              "      <th>std</th>\n",
              "      <td>15.930947</td>\n",
              "      <td>15.911710</td>\n",
              "      <td>23.961443</td>\n",
              "      <td>3.893083e+05</td>\n",
              "    </tr>\n",
              "    <tr>\n",
              "      <th>min</th>\n",
              "      <td>1940.000000</td>\n",
              "      <td>14.000000</td>\n",
              "      <td>76.000000</td>\n",
              "      <td>2.100000e+01</td>\n",
              "    </tr>\n",
              "    <tr>\n",
              "      <th>25%</th>\n",
              "      <td>2002.000000</td>\n",
              "      <td>55.000000</td>\n",
              "      <td>96.000000</td>\n",
              "      <td>2.341325e+04</td>\n",
              "    </tr>\n",
              "    <tr>\n",
              "      <th>50%</th>\n",
              "      <td>2019.000000</td>\n",
              "      <td>66.500000</td>\n",
              "      <td>109.000000</td>\n",
              "      <td>1.313960e+05</td>\n",
              "    </tr>\n",
              "    <tr>\n",
              "      <th>75%</th>\n",
              "      <td>2020.000000</td>\n",
              "      <td>77.500000</td>\n",
              "      <td>127.750000</td>\n",
              "      <td>3.449875e+05</td>\n",
              "    </tr>\n",
              "    <tr>\n",
              "      <th>max</th>\n",
              "      <td>2020.000000</td>\n",
              "      <td>100.000000</td>\n",
              "      <td>181.000000</td>\n",
              "      <td>2.301574e+06</td>\n",
              "    </tr>\n",
              "  </tbody>\n",
              "</table>\n",
              "</div>"
            ],
            "text/plain": [
              "              year   metascore     runtime         votes\n",
              "count    98.000000   98.000000   98.000000  9.800000e+01\n",
              "mean   2009.244898   65.153061  114.255102  2.634827e+05\n",
              "std      15.930947   15.911710   23.961443  3.893083e+05\n",
              "min    1940.000000   14.000000   76.000000  2.100000e+01\n",
              "25%    2002.000000   55.000000   96.000000  2.341325e+04\n",
              "50%    2019.000000   66.500000  109.000000  1.313960e+05\n",
              "75%    2020.000000   77.500000  127.750000  3.449875e+05\n",
              "max    2020.000000  100.000000  181.000000  2.301574e+06"
            ]
          },
          "metadata": {
            "tags": []
          },
          "execution_count": 42
        }
      ]
    },
    {
      "cell_type": "code",
      "metadata": {
        "id": "OeJe6HU_-AFS"
      },
      "source": [
        "# Salvando o dataframe\n",
        "\n",
        "titulos_imdb.to_csv('titulos_imdb.csv')"
      ],
      "execution_count": 43,
      "outputs": []
    },
    {
      "cell_type": "code",
      "metadata": {
        "id": "vryx6A2T6-oV",
        "outputId": "0ea04028-d331-4e1c-f4bb-e759c8e14952",
        "colab": {
          "base_uri": "https://localhost:8080/",
          "height": 581
        }
      },
      "source": [
        "# PLOTAMOS UM GRÁFICO PARA ANALISAR AS AVALIAÇÕES(IMDB)\n",
        "\n",
        "import matplotlib.pyplot as plt\n",
        "\n",
        "\n",
        "plt.figure(figsize=(12, 9))\n",
        "rating = titulos_imdb['imdb'].value_counts()\n",
        "rating.plot(kind='bar')\n",
        "plt.xlabel('Avaliação', color='purple')\n",
        "plt.ylabel('Quantidade de Filmes', color='blue')\n",
        "plt.title('Avaliação por Filmes', color='yellow', fontsize=12)\n",
        "plt.show()"
      ],
      "execution_count": 45,
      "outputs": [
        {
          "output_type": "display_data",
          "data": {
            "image/png": "[encoded data removed]",
            "text/plain": [
              "<Figure size 864x648 with 1 Axes>"
            ]
          },
          "metadata": {
            "tags": [],
            "needs_background": "light"
          }
        }
      ]
    },
    {
      "cell_type": "code",
      "metadata": {
        "id": "9cOwvCvB6-1a",
        "outputId": "c16b2f8e-0299-41e5-97f4-38e18b042c81",
        "colab": {
          "base_uri": "https://localhost:8080/"
        }
      },
      "source": [
        "# Verificando de possui valores nulos\n",
        "\n",
        "titulos_imdb.isnull().sum()"
      ],
      "execution_count": 46,
      "outputs": [
        {
          "output_type": "execute_result",
          "data": {
            "text/plain": [
              "movie        0\n",
              "year         0\n",
              "imdb         0\n",
              "metascore    0\n",
              "runtime      0\n",
              "genre        0\n",
              "director     0\n",
              "cast         0\n",
              "votes        0\n",
              "dtype: int64"
            ]
          },
          "metadata": {
            "tags": []
          },
          "execution_count": 46
        }
      ]
    },
    {
      "cell_type": "code",
      "metadata": {
        "id": "VrXYM-hwEPF6"
      },
      "source": [
        "import seaborn as sns"
      ],
      "execution_count": 47,
      "outputs": []
    },
    {
      "cell_type": "code",
      "metadata": {
        "id": "WE2dWXAX6-dn",
        "outputId": "cdee5884-2063-457f-b3df-c8ef7e66a1b3",
        "colab": {
          "base_uri": "https://localhost:8080/",
          "height": 405
        }
      },
      "source": [
        "# Histograma de Filmes x Metascore ( métrica que classifica a qualidade)\n",
        "\n",
        "sns.set(style=\"dark\")\n",
        "plt.figure(figsize=(10,5))\n",
        "rest = titulos_imdb['metascore'].value_counts().sort_values()\n",
        "sns.barplot(rest.index, rest.values, alpha=0.9)\n",
        "plt.ylabel('Títulos', fontsize=12)\n",
        "plt.xticks(rotation=90)\n",
        "plt.xlabel('Metascore', fontsize=12)\n",
        "plt.show()"
      ],
      "execution_count": 48,
      "outputs": [
        {
          "output_type": "stream",
          "text": [
            "/usr/local/lib/python3.6/dist-packages/seaborn/_decorators.py:43: FutureWarning: Pass the following variables as keyword args: x, y. From version 0.12, the only valid positional argument will be `data`, and passing other arguments without an explicit keyword will result in an error or misinterpretation.\n",
            "  FutureWarning\n"
          ],
          "name": "stderr"
        },
        {
          "output_type": "display_data",
          "data": {
            "image/png": "[encoded data removed]",
            "text/plain": [
              "<Figure size 720x360 with 1 Axes>"
            ]
          },
          "metadata": {
            "tags": []
          }
        }
      ]
    },
    {
      "cell_type": "markdown",
      "metadata": {
        "id": "5T2ULXOXEtl3"
      },
      "source": [
        "## Ordenando os títulos por Gênero"
      ]
    },
    {
      "cell_type": "code",
      "metadata": {
        "id": "MWO0xHZKCTST",
        "outputId": "efc8fb37-c657-4e3e-b6d4-9a2a467b4164",
        "colab": {
          "base_uri": "https://localhost:8080/",
          "height": 289
        }
      },
      "source": [
        "# O(s) gênero(s) que aparecem em primeiro é a combinação de 'Ação, aventura, comédia'\n",
        "\n",
        "Genre_filter = titulos_imdb.sort_values('genre')\n",
        "Genre_filter.head()"
      ],
      "execution_count": 49,
      "outputs": [
        {
          "output_type": "execute_result",
          "data": {
            "text/html": [
              "<div>\n",
              "<style scoped>\n",
              "    .dataframe tbody tr th:only-of-type {\n",
              "        vertical-align: middle;\n",
              "    }\n",
              "\n",
              "    .dataframe tbody tr th {\n",
              "        vertical-align: top;\n",
              "    }\n",
              "\n",
              "    .dataframe thead th {\n",
              "        text-align: right;\n",
              "    }\n",
              "</style>\n",
              "<table border=\"1\" class=\"dataframe\">\n",
              "  <thead>\n",
              "    <tr style=\"text-align: right;\">\n",
              "      <th></th>\n",
              "      <th>movie</th>\n",
              "      <th>year</th>\n",
              "      <th>imdb</th>\n",
              "      <th>metascore</th>\n",
              "      <th>runtime</th>\n",
              "      <th>genre</th>\n",
              "      <th>director</th>\n",
              "      <th>cast</th>\n",
              "      <th>votes</th>\n",
              "    </tr>\n",
              "  </thead>\n",
              "  <tbody>\n",
              "    <tr>\n",
              "      <th>12</th>\n",
              "      <td>Love and Monsters</td>\n",
              "      <td>2020</td>\n",
              "      <td>[7.0]</td>\n",
              "      <td>59</td>\n",
              "      <td>109</td>\n",
              "      <td>Action, Adventure, Comedy</td>\n",
              "      <td>Michael Matthews</td>\n",
              "      <td>[[Dylan O'Brien], [Jessica Henwick], [Michael ...</td>\n",
              "      <td>14256</td>\n",
              "    </tr>\n",
              "    <tr>\n",
              "      <th>86</th>\n",
              "      <td>Birds of Prey: And the Fantabulous Emancipatio...</td>\n",
              "      <td>2020</td>\n",
              "      <td>[6.1]</td>\n",
              "      <td>60</td>\n",
              "      <td>109</td>\n",
              "      <td>Action, Adventure, Crime</td>\n",
              "      <td>Cathy Yan</td>\n",
              "      <td>[[Margot Robbie], [Rosie Perez], [Mary Elizabe...</td>\n",
              "      <td>151362</td>\n",
              "    </tr>\n",
              "    <tr>\n",
              "      <th>55</th>\n",
              "      <td>Mulan</td>\n",
              "      <td>2020</td>\n",
              "      <td>[5.4]</td>\n",
              "      <td>66</td>\n",
              "      <td>115</td>\n",
              "      <td>Action, Adventure, Drama</td>\n",
              "      <td>Niki Caro</td>\n",
              "      <td>[[Yifei Liu], [Donnie Yen], [Li Gong], [Jet Li]]</td>\n",
              "      <td>66506</td>\n",
              "    </tr>\n",
              "    <tr>\n",
              "      <th>66</th>\n",
              "      <td>Avengers: Endgame</td>\n",
              "      <td>2019</td>\n",
              "      <td>[8.4]</td>\n",
              "      <td>78</td>\n",
              "      <td>181</td>\n",
              "      <td>Action, Adventure, Drama</td>\n",
              "      <td>Avengers: Infinity War</td>\n",
              "      <td>[[Anthony Russo], [Joe Russo], [Robert Downey ...</td>\n",
              "      <td>776180</td>\n",
              "    </tr>\n",
              "    <tr>\n",
              "      <th>74</th>\n",
              "      <td>Terminator: Dark Fate</td>\n",
              "      <td>2019</td>\n",
              "      <td>[6.2]</td>\n",
              "      <td>54</td>\n",
              "      <td>128</td>\n",
              "      <td>Action, Adventure, Sci-Fi</td>\n",
              "      <td>Tim Miller</td>\n",
              "      <td>[[Linda Hamilton], [Arnold Schwarzenegger], [M...</td>\n",
              "      <td>141741</td>\n",
              "    </tr>\n",
              "  </tbody>\n",
              "</table>\n",
              "</div>"
            ],
            "text/plain": [
              "                                                movie  ...   votes\n",
              "12                                  Love and Monsters  ...   14256\n",
              "86  Birds of Prey: And the Fantabulous Emancipatio...  ...  151362\n",
              "55                                              Mulan  ...   66506\n",
              "66                                  Avengers: Endgame  ...  776180\n",
              "74                              Terminator: Dark Fate  ...  141741\n",
              "\n",
              "[5 rows x 9 columns]"
            ]
          },
          "metadata": {
            "tags": []
          },
          "execution_count": 49
        }
      ]
    },
    {
      "cell_type": "markdown",
      "metadata": {
        "id": "0U8UT0RqFFMG"
      },
      "source": [
        "## Ordenando os títulos por Ano"
      ]
    },
    {
      "cell_type": "code",
      "metadata": {
        "id": "t2FRsm4AFDG_",
        "outputId": "94b9d480-6c9e-4c34-e24a-f479f30f5347",
        "colab": {
          "base_uri": "https://localhost:8080/",
          "height": 289
        }
      },
      "source": [
        "# O primeiro 'lançamento' da listagem é o filme Rebecca de 1940.\n",
        "\n",
        "Year_filter = titulos_imdb.sort_values('year')\n",
        "Year_filter.head()"
      ],
      "execution_count": 50,
      "outputs": [
        {
          "output_type": "execute_result",
          "data": {
            "text/html": [
              "<div>\n",
              "<style scoped>\n",
              "    .dataframe tbody tr th:only-of-type {\n",
              "        vertical-align: middle;\n",
              "    }\n",
              "\n",
              "    .dataframe tbody tr th {\n",
              "        vertical-align: top;\n",
              "    }\n",
              "\n",
              "    .dataframe thead th {\n",
              "        text-align: right;\n",
              "    }\n",
              "</style>\n",
              "<table border=\"1\" class=\"dataframe\">\n",
              "  <thead>\n",
              "    <tr style=\"text-align: right;\">\n",
              "      <th></th>\n",
              "      <th>movie</th>\n",
              "      <th>year</th>\n",
              "      <th>imdb</th>\n",
              "      <th>metascore</th>\n",
              "      <th>runtime</th>\n",
              "      <th>genre</th>\n",
              "      <th>director</th>\n",
              "      <th>cast</th>\n",
              "      <th>votes</th>\n",
              "    </tr>\n",
              "  </thead>\n",
              "  <tbody>\n",
              "    <tr>\n",
              "      <th>22</th>\n",
              "      <td>Rebecca</td>\n",
              "      <td>1940</td>\n",
              "      <td>[8.1]</td>\n",
              "      <td>86</td>\n",
              "      <td>130</td>\n",
              "      <td>Drama, Mystery, Romance</td>\n",
              "      <td>Alfred Hitchcock</td>\n",
              "      <td>[[Laurence Olivier], [Joan Fontaine], [George ...</td>\n",
              "      <td>121490</td>\n",
              "    </tr>\n",
              "    <tr>\n",
              "      <th>71</th>\n",
              "      <td>The Godfather</td>\n",
              "      <td>1972</td>\n",
              "      <td>[9.2]</td>\n",
              "      <td>100</td>\n",
              "      <td>175</td>\n",
              "      <td>Crime, Drama</td>\n",
              "      <td>Francis Ford Coppola</td>\n",
              "      <td>[[Marlon Brando], [Al Pacino], [James Caan], [...</td>\n",
              "      <td>1588454</td>\n",
              "    </tr>\n",
              "    <tr>\n",
              "      <th>50</th>\n",
              "      <td>The Exorcist</td>\n",
              "      <td>1973</td>\n",
              "      <td>[8.0]</td>\n",
              "      <td>81</td>\n",
              "      <td>122</td>\n",
              "      <td>Horror</td>\n",
              "      <td>William Friedkin</td>\n",
              "      <td>[[Ellen Burstyn], [Max von Sydow], [Linda Blai...</td>\n",
              "      <td>358417</td>\n",
              "    </tr>\n",
              "    <tr>\n",
              "      <th>65</th>\n",
              "      <td>One Flew Over the Cuckoo's Nest</td>\n",
              "      <td>1975</td>\n",
              "      <td>[8.7]</td>\n",
              "      <td>83</td>\n",
              "      <td>133</td>\n",
              "      <td>Drama</td>\n",
              "      <td>Milos Forman</td>\n",
              "      <td>[[Jack Nicholson], [Louise Fletcher], [Michael...</td>\n",
              "      <td>903673</td>\n",
              "    </tr>\n",
              "    <tr>\n",
              "      <th>39</th>\n",
              "      <td>The Rocky Horror Picture Show</td>\n",
              "      <td>1975</td>\n",
              "      <td>[7.4]</td>\n",
              "      <td>65</td>\n",
              "      <td>100</td>\n",
              "      <td>Comedy, Musical</td>\n",
              "      <td>Jim Sharman</td>\n",
              "      <td>[[Tim Curry], [Susan Sarandon], [Barry Bostwic...</td>\n",
              "      <td>130896</td>\n",
              "    </tr>\n",
              "  </tbody>\n",
              "</table>\n",
              "</div>"
            ],
            "text/plain": [
              "                              movie  ...    votes\n",
              "22                          Rebecca  ...   121490\n",
              "71                    The Godfather  ...  1588454\n",
              "50                     The Exorcist  ...   358417\n",
              "65  One Flew Over the Cuckoo's Nest  ...   903673\n",
              "39    The Rocky Horror Picture Show  ...   130896\n",
              "\n",
              "[5 rows x 9 columns]"
            ]
          },
          "metadata": {
            "tags": []
          },
          "execution_count": 50
        }
      ]
    },
    {
      "cell_type": "markdown",
      "metadata": {
        "id": "g2P5RerEFYZf"
      },
      "source": [
        "## Ordenando os títulos primeiro por gênero e depois por ano no mesmo dataframe"
      ]
    },
    {
      "cell_type": "code",
      "metadata": {
        "id": "b-JnByagFTX-",
        "outputId": "c2e456c9-46f7-42b9-934e-cb253df552a9",
        "colab": {
          "base_uri": "https://localhost:8080/",
          "height": 289
        }
      },
      "source": [
        "\n",
        "titulos_imdb.sort_values(['genre','year']).head()"
      ],
      "execution_count": 51,
      "outputs": [
        {
          "output_type": "execute_result",
          "data": {
            "text/html": [
              "<div>\n",
              "<style scoped>\n",
              "    .dataframe tbody tr th:only-of-type {\n",
              "        vertical-align: middle;\n",
              "    }\n",
              "\n",
              "    .dataframe tbody tr th {\n",
              "        vertical-align: top;\n",
              "    }\n",
              "\n",
              "    .dataframe thead th {\n",
              "        text-align: right;\n",
              "    }\n",
              "</style>\n",
              "<table border=\"1\" class=\"dataframe\">\n",
              "  <thead>\n",
              "    <tr style=\"text-align: right;\">\n",
              "      <th></th>\n",
              "      <th>movie</th>\n",
              "      <th>year</th>\n",
              "      <th>imdb</th>\n",
              "      <th>metascore</th>\n",
              "      <th>runtime</th>\n",
              "      <th>genre</th>\n",
              "      <th>director</th>\n",
              "      <th>cast</th>\n",
              "      <th>votes</th>\n",
              "    </tr>\n",
              "  </thead>\n",
              "  <tbody>\n",
              "    <tr>\n",
              "      <th>12</th>\n",
              "      <td>Love and Monsters</td>\n",
              "      <td>2020</td>\n",
              "      <td>[7.0]</td>\n",
              "      <td>59</td>\n",
              "      <td>109</td>\n",
              "      <td>Action, Adventure, Comedy</td>\n",
              "      <td>Michael Matthews</td>\n",
              "      <td>[[Dylan O'Brien], [Jessica Henwick], [Michael ...</td>\n",
              "      <td>14256</td>\n",
              "    </tr>\n",
              "    <tr>\n",
              "      <th>86</th>\n",
              "      <td>Birds of Prey: And the Fantabulous Emancipatio...</td>\n",
              "      <td>2020</td>\n",
              "      <td>[6.1]</td>\n",
              "      <td>60</td>\n",
              "      <td>109</td>\n",
              "      <td>Action, Adventure, Crime</td>\n",
              "      <td>Cathy Yan</td>\n",
              "      <td>[[Margot Robbie], [Rosie Perez], [Mary Elizabe...</td>\n",
              "      <td>151362</td>\n",
              "    </tr>\n",
              "    <tr>\n",
              "      <th>66</th>\n",
              "      <td>Avengers: Endgame</td>\n",
              "      <td>2019</td>\n",
              "      <td>[8.4]</td>\n",
              "      <td>78</td>\n",
              "      <td>181</td>\n",
              "      <td>Action, Adventure, Drama</td>\n",
              "      <td>Avengers: Infinity War</td>\n",
              "      <td>[[Anthony Russo], [Joe Russo], [Robert Downey ...</td>\n",
              "      <td>776180</td>\n",
              "    </tr>\n",
              "    <tr>\n",
              "      <th>55</th>\n",
              "      <td>Mulan</td>\n",
              "      <td>2020</td>\n",
              "      <td>[5.4]</td>\n",
              "      <td>66</td>\n",
              "      <td>115</td>\n",
              "      <td>Action, Adventure, Drama</td>\n",
              "      <td>Niki Caro</td>\n",
              "      <td>[[Yifei Liu], [Donnie Yen], [Li Gong], [Jet Li]]</td>\n",
              "      <td>66506</td>\n",
              "    </tr>\n",
              "    <tr>\n",
              "      <th>74</th>\n",
              "      <td>Terminator: Dark Fate</td>\n",
              "      <td>2019</td>\n",
              "      <td>[6.2]</td>\n",
              "      <td>54</td>\n",
              "      <td>128</td>\n",
              "      <td>Action, Adventure, Sci-Fi</td>\n",
              "      <td>Tim Miller</td>\n",
              "      <td>[[Linda Hamilton], [Arnold Schwarzenegger], [M...</td>\n",
              "      <td>141741</td>\n",
              "    </tr>\n",
              "  </tbody>\n",
              "</table>\n",
              "</div>"
            ],
            "text/plain": [
              "                                                movie  ...   votes\n",
              "12                                  Love and Monsters  ...   14256\n",
              "86  Birds of Prey: And the Fantabulous Emancipatio...  ...  151362\n",
              "66                                  Avengers: Endgame  ...  776180\n",
              "55                                              Mulan  ...   66506\n",
              "74                              Terminator: Dark Fate  ...  141741\n",
              "\n",
              "[5 rows x 9 columns]"
            ]
          },
          "metadata": {
            "tags": []
          },
          "execution_count": 51
        }
      ]
    },
    {
      "cell_type": "markdown",
      "metadata": {
        "id": "pDpyh2O_KONf"
      },
      "source": [
        "Conclusão\n",
        "\n",
        "Os gráficos mais profundos e análise estão no outro script do código fornecido.\n",
        "\n",
        "Nesse código tive menos dificuldade, pois fui fazendo passo-a-passo com as pesquisas, talvez de uma forma mais arcaica, mas com um nível de compreensão mais alto. O outro código ainda não me é tão inteligível. Foi um trabalho muito divertido de fazer. Mais uma vez digo que a essência da matéria foi muito bem passada pelos professores e gostei muito de como se extraem dados dos sites, pois não tenho experiência anterior em html e programação."
      ]
    }
  ]
}